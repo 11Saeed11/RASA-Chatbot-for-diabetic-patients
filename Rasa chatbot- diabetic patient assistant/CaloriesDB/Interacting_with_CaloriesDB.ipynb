{
 "cells": [
  {
   "cell_type": "code",
   "execution_count": 35,
   "metadata": {},
   "outputs": [
    {
     "name": "stdout",
     "output_type": "stream",
     "text": [
      "[('apple', 95, 27.0), ('pineapple', 500, 119.0), ('banana', 100, 28.0), ('carrot', 30, 7.0), ('orange', 60, 15.0), ('strawberry', 6, 2.0), ('tomato', 22, 5.0), ('lemon', 17, 6.0), ('grape', 3, 1.0), ('cherry', 4, 1.0), ('mango', 140, 35.0), ('coconut', 1400, 61.0), ('watermelon', 1355, 341.0), ('pomegranate', 212, 53.0), ('apple', 95, 27.0), ('pineapple', 500, 119.0), ('banana', 100, 28.0), ('carrot', 30, 7.0), ('orange', 60, 15.0), ('strawberry', 6, 2.0), ('tomato', 22, 5.0), ('lemon', 17, 6.0), ('grape', 3, 1.0), ('cherry', 4, 1.0), ('mango', 140, 35.0), ('coconut', 1400, 61.0), ('watermelon', 1355, 341.0), ('pomegranate', 212, 53.0), ('apple', 95, 27.0), ('pineapple', 500, 119.0), ('banana', 100, 28.0), ('carrot', 30, 7.0), ('orange', 60, 15.0), ('strawberry', 6, 2.0), ('tomato', 22, 5.0), ('lemon', 17, 6.0), ('grape', 3, 1.0), ('cherry', 4, 1.0), ('mango', 140, 35.0), ('coconut', 1400, 61.0), ('watermelon', 1355, 341.0), ('pomegranate', 212, 53.0), ('apple', 95, 27.0), ('pineapple', 500, 119.0), ('banana', 100, 28.0), ('carrot', 30, 7.0), ('orange', 60, 15.0), ('strawberry', 6, 2.0), ('tomato', 22, 5.0), ('lemon', 17, 6.0), ('grape', 3, 1.0), ('cherry', 4, 1.0), ('mango', 140, 35.0), ('coconut', 1400, 61.0), ('watermelon', 1355, 341.0), ('pomegranate', 212, 53.0)]\n"
     ]
    }
   ],
   "source": [
    "import sqlite3\n",
    "\n",
    "#define a connection and a curser\n",
    "connection = sqlite3.connect('CaloriesDB')\n",
    "cursor= connection.cursor()\n",
    "\n",
    "#Create the calroies table\n",
    "table_create= \"\"\"CREATE TABLE IF NOT EXISTS CaloriesDB(Food VARCHAR(25),Calories INT,Carbohydrates DOUBLE)\"\"\"\n",
    "cursor.execute(table_create)\n",
    "\n",
    "# Add entries to the Calories Database\n",
    "cursor.execute(\"INSERT INTO CaloriesDB values('apple', 95, 27)\") #apple\n",
    "cursor.execute(\"INSERT INTO CaloriesDB values('pineapple', 500, 119)\") #pineapple\n",
    "cursor.execute(\"INSERT INTO CaloriesDB values('banana', 100, 28)\") #banana\n",
    "cursor.execute(\"INSERT INTO CaloriesDB values('carrot', 30, 7)\") #carrot\n",
    "cursor.execute(\"INSERT INTO CaloriesDB values('orange', 60, 15)\") #orange\n",
    "cursor.execute(\"INSERT INTO CaloriesDB values('strawberry', 6, 2)\") #strawberry\n",
    "cursor.execute(\"INSERT INTO CaloriesDB values('tomato', 22, 5)\") #tomato\n",
    "cursor.execute(\"INSERT INTO CaloriesDB values('lemon', 17, 6)\") #lemon\n",
    "cursor.execute(\"INSERT INTO CaloriesDB values('grape', 3, 1)\") #grape\n",
    "cursor.execute(\"INSERT INTO CaloriesDB values('cherry', 4, 1)\") #cherry\n",
    "cursor.execute(\"INSERT INTO CaloriesDB values('mango', 140, 35)\") #mango\n",
    "cursor.execute(\"INSERT INTO CaloriesDB values('coconut', 1400, 61)\") #coconut\n",
    "cursor.execute(\"INSERT INTO CaloriesDB values('watermelon', 1355, 341)\") #watermelon\n",
    "cursor.execute(\"INSERT INTO CaloriesDB values('pomegranate', 212, 53)\") #pomegranate\n",
    "# Get search results \n",
    "\n",
    "cursor.execute(\"SELECT * from CaloriesDB\")\n",
    "results = cursor.fetchall()\n",
    "print(results)\n",
    "\n",
    "#To commit changes on the DatabaseTh\n",
    "connection.commit()\n",
    "\n"
   ]
  },
  {
   "cell_type": "code",
   "execution_count": 7,
   "metadata": {},
   "outputs": [
    {
     "name": "stdout",
     "output_type": "stream",
     "text": [
      "[('apple', 95, 27.0), ('pineapple', 500, 119.0), ('banana', 100, 28.0), ('carrot', 30, 7.0), ('orange', 60, 15.0), ('strawberry', 6, 2.0), ('tomato', 22, 5.0), ('lemon', 17, 6.0), ('grape', 3, 1.0), ('cherry', 4, 1.0), ('mango', 140, 35.0), ('coconut', 1400, 61.0), ('watermelon', 1355, 341.0), ('pomegranate', 212, 53.0), ('apple', 95, 27.0), ('pineapple', 500, 119.0), ('banana', 100, 28.0), ('carrot', 30, 7.0), ('orange', 60, 15.0), ('strawberry', 6, 2.0), ('tomato', 22, 5.0), ('lemon', 17, 6.0), ('grape', 3, 1.0), ('cherry', 4, 1.0), ('mango', 140, 35.0), ('coconut', 1400, 61.0), ('watermelon', 1355, 341.0), ('pomegranate', 212, 53.0), ('apple', 95, 27.0), ('pineapple', 500, 119.0), ('banana', 100, 28.0), ('carrot', 30, 7.0), ('orange', 60, 15.0), ('strawberry', 6, 2.0), ('tomato', 22, 5.0), ('lemon', 17, 6.0), ('grape', 3, 1.0), ('cherry', 4, 1.0), ('mango', 140, 35.0), ('coconut', 1400, 61.0), ('watermelon', 1355, 341.0), ('pomegranate', 212, 53.0), ('apple', 95, 27.0), ('pineapple', 500, 119.0), ('banana', 100, 28.0), ('carrot', 30, 7.0), ('orange', 60, 15.0), ('strawberry', 6, 2.0), ('tomato', 22, 5.0), ('lemon', 17, 6.0), ('grape', 3, 1.0), ('cherry', 4, 1.0), ('mango', 140, 35.0), ('coconut', 1400, 61.0), ('watermelon', 1355, 341.0), ('pomegranate', 212, 53.0)]\n"
     ]
    }
   ],
   "source": [
    "# this code is only for testing if the DB was saved\n",
    "import sqlite3\n",
    "#define a connection and a curser\n",
    "connection = sqlite3.connect('CaloriesDB')\n",
    "cursor= connection.cursor()\n",
    "# Get search results \n",
    "cursor.execute(\"SELECT * from CaloriesDB\")\n",
    "results = cursor.fetchall()\n",
    "print(results)\n"
   ]
  },
  {
   "cell_type": "code",
   "execution_count": 8,
   "metadata": {},
   "outputs": [],
   "source": [
    "def create_connection(CaloriesDB):\n",
    "    \"\"\" create a database connection to the SQLite database\n",
    "        specified by the db_file\n",
    "    :param db_file: database file\n",
    "    :return: Connection object or None\n",
    "    \"\"\"\n",
    "    conn = None\n",
    "    try:\n",
    "        conn = sqlite3.connect(CaloriesDB)\n",
    "    except Error as e:\n",
    "        print(e)\n",
    "\n",
    "    return conn"
   ]
  },
  {
   "cell_type": "code",
   "execution_count": 11,
   "metadata": {},
   "outputs": [
    {
     "name": "stdout",
     "output_type": "stream",
     "text": [
      "One carrot contain 30 Calories and 7.0 grams of Carbohydrates\n",
      "One carrot contain 30 Calories and 7.0 grams of Carbohydrates\n",
      "One carrot contain 30 Calories and 7.0 grams of Carbohydrates\n",
      "One carrot contain 30 Calories and 7.0 grams of Carbohydrates\n"
     ]
    }
   ],
   "source": [
    "select_all_foods(create_connection(\"CaloriesDB\"), \n",
    "        slot_name= \"Food\",\n",
    "        slot_value=\"carrot\")"
   ]
  },
  {
   "cell_type": "code",
   "execution_count": 12,
   "metadata": {},
   "outputs": [],
   "source": [
    "def select_all_foods(conn, slot_name, slot_value):\n",
    "    \"\"\"\n",
    "    Query all rows in the tasks table\n",
    "    :param conn: the Connection object\n",
    "    :return:\n",
    "    \"\"\"\n",
    "    cur = conn.cursor()\n",
    "    cur.execute(f\"\"\"SELECT * FROM CaloriesDB\n",
    "                WHERE {slot_name} = '{slot_value}'\"\"\")\n",
    "\n",
    "    rows = cur.fetchall()\n",
    "\n",
    "    for row in rows:\n",
    "        print(f\"One {row[0]} contain {row[1]} Calories and {row[2]} grams of Carbohydrates\")"
   ]
  }
 ],
 "metadata": {
  "interpreter": {
   "hash": "eb5482ba9dd1169f8b72afd99eef208057ab1fd7cceac2e0bc86b2d0f801b0d0"
  },
  "kernelspec": {
   "display_name": "Python 3.7.0 64-bit ('Rasa_Env': conda)",
   "language": "python",
   "name": "python3"
  },
  "language_info": {
   "codemirror_mode": {
    "name": "ipython",
    "version": 3
   },
   "file_extension": ".py",
   "mimetype": "text/x-python",
   "name": "python",
   "nbconvert_exporter": "python",
   "pygments_lexer": "ipython3",
   "version": "3.7.0"
  },
  "orig_nbformat": 4
 },
 "nbformat": 4,
 "nbformat_minor": 2
}
